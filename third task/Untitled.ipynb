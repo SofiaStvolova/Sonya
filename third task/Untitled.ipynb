{
 "cells": [
  {
   "cell_type": "code",
   "execution_count": 54,
   "metadata": {
    "collapsed": false
   },
   "outputs": [
    {
     "name": "stdout",
     "output_type": "stream",
     "text": [
      "Vvedite skolko shagov:\n",
      "1000\n",
      "0.7499999999999993\n"
     ]
    }
   ],
   "source": [
    "print('Vvedite skolko shagov:')\n",
    "n = int(input())                          #считываем кол-во шагов\n",
    "p = 1                                     #вероятность в начале\n",
    "if (n //2)  == 0:               #если 0 или 1 хода, то вероятность считается в слудующей строке\n",
    "    p = p\n",
    "i = 1                                     #счетчик шагов\n",
    "l = []\n",
    "l2 = []\n",
    "l.append(int(1))\n",
    "l.append(int(1))\n",
    "for i in range((n //2) ):                       #заполняем нолями массивы, хранящие кол-во вариантов того, что пьяница упадет на i шагу\n",
    "    l.append(int(0))\n",
    "    i+=1\n",
    "k = 1\n",
    "q = n //2+1\n",
    "for i in range(n //2):                             #пока i <= количества ходов, когда пьяница может упасть\n",
    "    l2.append(int(1))\n",
    "    for w in range(i+2):\n",
    "        l2.append(int(0))\n",
    "    for k in range(i+2):                             #пока k <= количества элементов в массиве\n",
    "        if k < i+2:\n",
    "            l2[k+1]=(int(l2[k]) + int(l[k+1]))\n",
    "        elif k == i+2:                            #если последний элемент в массиве\n",
    "            l2[k]=(int(l2[k-1]))\n",
    "    p = p - (1/9)*int(l[i+1])*(2/9)**(i)              #считаем вероятность\n",
    "    l.clear()\n",
    "    l = l2[:]                                         #записываем в список l список l2\n",
    "    l.append(int(0))\n",
    "    l2.clear()\n",
    "print(p)"
   ]
  },
  {
   "cell_type": "code",
   "execution_count": null,
   "metadata": {
    "collapsed": true
   },
   "outputs": [],
   "source": []
  }
 ],
 "metadata": {
  "kernelspec": {
   "display_name": "Python 3",
   "language": "python",
   "name": "python3"
  },
  "language_info": {
   "codemirror_mode": {
    "name": "ipython",
    "version": 3
   },
   "file_extension": ".py",
   "mimetype": "text/x-python",
   "name": "python",
   "nbconvert_exporter": "python",
   "pygments_lexer": "ipython3",
   "version": "3.6.0"
  }
 },
 "nbformat": 4,
 "nbformat_minor": 2
}
