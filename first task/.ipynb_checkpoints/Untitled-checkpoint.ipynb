{
 "cells": [
  {
   "cell_type": "code",
   "execution_count": 22,
   "metadata": {
    "collapsed": false,
    "scrolled": false
   },
   "outputs": [
    {
     "data": {
      "text/plain": [
       "identifier\n",
       "amorphous     142.022727\n",
       "bug           125.815385\n",
       "ditto          61.000000\n",
       "dragon        154.666667\n",
       "fairy         146.333333\n",
       "flying        128.219512\n",
       "ground        134.194631\n",
       "humanshape    139.555556\n",
       "mineral       139.904762\n",
       "monster       143.417910\n",
       "no-eggs       182.424658\n",
       "plant         137.608696\n",
       "water-1       135.846154\n",
       "water-2       126.066667\n",
       "water-3       153.333333\n",
       "Name: exp_yield, dtype: float64"
      ]
     },
     "execution_count": 22,
     "metadata": {},
     "output_type": "execute_result"
    }
   ],
   "source": [
    "import pandas as pd\n",
    "import numpy as np\n",
    "import matplotlib.pyplot as plt\n",
    "\n",
    "\n",
    "pokemon = pd.read_csv('pokemon.csv')\n",
    "abilities = pd.read_csv('abilities.csv')\n",
    "egg_groups = pd.read_csv('egg_groups.csv')\n",
    "\n",
    "pokemon = pokemon[[\"id\", \"name\", \"egg_group1_id\", \"exp_yield\"]]\n",
    "dragon = egg_groups[[\"id\", \"name\",\"identifier\"]]\n",
    "#pokemonShort\n",
    "commonTable = pokemon.merge(dragon, how='inner', left_on='egg_group1_id', right_on='id')\n",
    "smth = commonTable.groupby([\"identifier\"])[\"exp_yield\"].mean();\n",
    "smth\n",
    "\n",
    "\n",
    "\n",
    "\n"
   ]
  },
  {
   "cell_type": "code",
   "execution_count": 23,
   "metadata": {
    "collapsed": false
   },
   "outputs": [
    {
     "data": {
      "image/png": "[encoded data removed]",
      "text/plain": [
       "<matplotlib.figure.Figure at 0x6255b50>"
      ]
     },
     "metadata": {},
     "output_type": "display_data"
    }
   ],
   "source": [
    "#np.array(smth)\n",
    "#plt.x();\n",
    "\n",
    "#np.array(smth.keys())\n",
    "\n",
    "#plt.plot(np.array(smth.keys()), np.array(smth))\n",
    "#plt.show()\n",
    "\n",
    "smth.plot(kind='bar')\n",
    "plt.show()"
   ]
  }
 ],
 "metadata": {
  "kernelspec": {
   "display_name": "Python 3",
   "language": "python",
   "name": "python3"
  },
  "language_info": {
   "codemirror_mode": {
    "name": "ipython",
    "version": 3
   },
   "file_extension": ".py",
   "mimetype": "text/x-python",
   "name": "python",
   "nbconvert_exporter": "python",
   "pygments_lexer": "ipython3",
   "version": "3.6.0"
  }
 },
 "nbformat": 4,
 "nbformat_minor": 0
}
